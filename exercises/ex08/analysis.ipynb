{
 "cells": [
  {
   "cell_type": "markdown",
   "metadata": {},
   "source": [
    "# Analysis for Continuous Improvement\n",
    "\n",
    "Author Name: Madhumitha Gopinath\n",
    "\n",
    "9-digit PID: 730475197\n",
    "\n",
    "Continuous Improvement embraces a belief there is _always room to make things better_. It is a mindset and process we value and practice in this course. In this assignment, you are able to practice continuous improvement and contribute to the design ideas of the course.\n",
    "\n",
    "## Brainstorming Ideas\n",
    "\n",
    "Reflect on your personal experiences and observations in COMP110 and **brainstorm modifications to the course that _create value_ beyond its current design**. When brainstorming, try not to be critical of the ideas you come up with regarding scale, stakeholders impacted, or for any other reasons. In the markdown cell below, brainstorm 3 to 5 ideas you think would create value for you.\n",
    "\n",
    "Each brainstormed idea should state a. the suggested change or addition, b. what the expected value created, and c. which specific stakeholders would benefit.  If helpful, expand on the following template \"The course should (state idea here) because it will (state value created here) for (insert stakeholders here).\"\n",
    "\n",
    "Example A: \"The course should use only examples from psychology experiments because it will be more relevant for students who are psychology majors.\"\n",
    "\n",
    "Example B: \"The course should not have post-lesson questions because they are not useful for most students in the class.\""
   ]
  },
  {
   "cell_type": "markdown",
   "metadata": {},
   "source": [
    "### Part 1. Creative Ideation\n",
    "\n",
    "1. The course should make note taking in class mandatory, because writing down ideas helps retain them better than just doing multiple choice hw for students.\n",
    "2. Adding more data analysis type projects from the beginning of the year will help increase interest in the class for students interested in Machine learning etc (aka typically Stat majors).\n",
    "3. The course should require people to have completed more math prerequisits, because students with more experience in math typically fare better in Comp 110.\n",
    "4. Visiting tutoring should be made mandatory by the course, because it would increase non-Comp major student interest for CompSci.\n",
    "5. The course should make attending any one Hackathon mandatory because it would increase the likelihood of students to learn more coding languages/increase interest in Comp related professional fields."
   ]
  },
  {
   "cell_type": "markdown",
   "metadata": {},
   "source": [
    "## Connecting with Available Data\n",
    "\n",
    "The data you have available for this analysis is limited to the anonymized course survey you and your peers filled out a few weeks ago. The data is found in the `survey.csv` file in this exercise directory. Each row represents an individual survey response. Each column has a description which can be found on the project write-up here: <https://22s.comp110.com/exercises/ex08.html>\n",
    "\n",
    "Review the list of available data and identify which one of your ideas _does not_, or is _least likely to_, have relevant data to support the analysis of your idea to create value. In the box below, identify which of your ideas lacks data and suggest how we might be able to collect this data in the future. One aspect of _continuous improvement_ is trying to avoid \"tunnel vision\" where possible improvements are not considered because there is no data available to analyze it. Identifying new data sources can unlock improvements!"
   ]
  },
  {
   "cell_type": "markdown",
   "metadata": {},
   "source": [
    "### Part 2. Identifying Missing Data\n",
    "\n",
    "1. Idea without sufficient data to analyze:\n",
    "        \n",
    "        Idea 5: Mandatory Hackathons leading to more interest in entering comp related professions later in life. \n",
    "\n",
    "2. Suggestion for how to collect data to support this idea in the future: \n",
    "\n",
    "        Add 2 questions to the existing survey given:\n",
    "        Q1 \"Are you interested in doing a job that directly involves CompSci in your future?\"\n",
    "        Q2 \"How many Hackathons have you been to, if any?\" \n",
    "        Seeing if a higher number for Q2 corresponds to answering \"yes\" for Q1 would be an interesting hypothesis to pursue. "
   ]
  },
  {
   "cell_type": "markdown",
   "metadata": {},
   "source": [
    "## Choosing an Idea to Analyze\n",
    "\n",
    "Consider those of your ideas which _do_ seem likely to have relevant data to analyze. If none of your ideas do, spend a few minutes and brainstorm another idea or two with the added connection of data available on hand and add those ideas to your brainstormed ideas list.\n",
    "\n",
    "Select the one idea which you believe is _most valuable_ to analyze relative to the others and has data to support the analysis of. In the markdown cell for Part 3 below, identify the idea you are exploring and articulate why you believe it is most valuable (e.g. widest impact, biggest opportunity for improvement, simplest change for significant improvement, and so on)."
   ]
  },
  {
   "cell_type": "markdown",
   "metadata": {},
   "source": [
    "### Part 3. Choosing Your Analysis\n",
    "\n",
    "1. Idea to analyze with available data:\n",
    "\n",
    "        Idea 1: Taking notes must be made mandatory to improve student understanding in class\n",
    "\n",
    "2. This idea is more valuable than the others brainstormed because: \n",
    "    \n",
    "        This is one of the ideas that affects *all* Comp 110 students, and if needed can be applied to students outside of Comp 110 with more data collection.\n",
    "        It can also be realistically implemented next year if needed, since it isn't that hard to upload a single page of notes to Gradescope, as opposed to or alongside the current Lesson homeworks.\n"
   ]
  },
  {
   "cell_type": "markdown",
   "metadata": {},
   "source": [
    "## Your Analysis\n",
    "\n",
    "Before you begin analysis, a reminder that we do not expect the data to support everyone's ideas and you can complete this exercise for full credit even if the data does not clearly support your suggestion or even completely refutes it. What we are looking for is a logical attempt to explore the data using the techniques you have learned up until now in a way that _either_ supports, refutes, or does not have a clear result and then to reflect on your findings after the analysis.\n",
    "\n",
    "Using the utility functions you created for the previous exercise, you will continue with your analysis in the following part. Before you begin, refer to the rubric on the technical expectations of this section in the exercise write-up.\n",
    "\n",
    "In this section, you are expected to interleave code and markdown cells such that for each step of your analysis you are starting with an English description of what you are planning to do next in a markdown cell, followed by a Python cell that performs that step of the analysis."
   ]
  },
  {
   "cell_type": "markdown",
   "metadata": {},
   "source": [
    "### Part 4. Analysis\n",
    "\n",
    "We begin by changing some settings in the notebook to automatically reload changes to imported files."
   ]
  },
  {
   "cell_type": "code",
   "execution_count": 42,
   "metadata": {},
   "outputs": [],
   "source": [
    "%reload_ext autoreload\n",
    "%autoreload 2"
   ]
  },
  {
   "cell_type": "markdown",
   "metadata": {},
   "source": [
    "We continue by importing the helper functions from `data_utils`."
   ]
  },
  {
   "cell_type": "code",
   "execution_count": 43,
   "metadata": {},
   "outputs": [],
   "source": [
    "from data_utils import read_csv_rows, column_values, columnar, head, select, count, read_csv_rows, support"
   ]
  },
  {
   "cell_type": "markdown",
   "metadata": {},
   "source": [
    "Next, ... (you take it from here and add additional code and markdown cells to read in the CSV file and process it as needed)"
   ]
  },
  {
   "cell_type": "markdown",
   "metadata": {},
   "source": [
    "<font color='red'>Convert </font>CSV files into a usable table format\n",
    "\n",
    "\n",
    "Using function read_csv_rows, we convert the Survey file into utilizable rows of data. The readable rows are then converted to a column format using function columnar."
   ]
  },
  {
   "cell_type": "code",
   "execution_count": 44,
   "metadata": {},
   "outputs": [],
   "source": [
    "SURVEY_DATA_CSV_FILE_PATH: str = \"../../data/survey.csv\"\n",
    "\n",
    "data_rows: list[dict[str, str]] = read_csv_rows(SURVEY_DATA_CSV_FILE_PATH)\n",
    "data_cols: dict[str, list[str]] = columnar(data_rows)"
   ]
  },
  {
   "cell_type": "markdown",
   "metadata": {},
   "source": [
    "<font color='red'> Display </font> an example of data that do or don't support hypothesis\n",
    "\n",
    "Support function helps determine whether typical note takers have a higher understanding of class than non-note takers, and states whether the data does or doesn't support my hypothesis.\n",
    "\n",
    "Select function helps focus on relevant data, and when the data of \"own_notes\", \"understanding\", whether that data supports my hypothesis is combined and tabulated, we can visually see the pattern. \n",
    "An example is shown, with only the first 10 rows of data displayed.  "
   ]
  },
  {
   "cell_type": "code",
   "execution_count": 45,
   "metadata": {},
   "outputs": [
    {
     "data": {
      "text/html": [
       "<table>\n",
       "<thead>\n",
       "<tr><th style=\"text-align: right;\">  own_notes</th><th style=\"text-align: right;\">  understanding</th><th>Supports Hypothesis  </th></tr>\n",
       "</thead>\n",
       "<tbody>\n",
       "<tr><td style=\"text-align: right;\">          4</td><td style=\"text-align: right;\">              7</td><td>no                   </td></tr>\n",
       "<tr><td style=\"text-align: right;\">          6</td><td style=\"text-align: right;\">              3</td><td>no                   </td></tr>\n",
       "<tr><td style=\"text-align: right;\">          7</td><td style=\"text-align: right;\">              6</td><td>yes                  </td></tr>\n",
       "<tr><td style=\"text-align: right;\">          6</td><td style=\"text-align: right;\">              5</td><td>yes                  </td></tr>\n",
       "<tr><td style=\"text-align: right;\">          6</td><td style=\"text-align: right;\">              5</td><td>yes                  </td></tr>\n",
       "<tr><td style=\"text-align: right;\">          5</td><td style=\"text-align: right;\">              6</td><td>yes                  </td></tr>\n",
       "<tr><td style=\"text-align: right;\">          7</td><td style=\"text-align: right;\">              6</td><td>yes                  </td></tr>\n",
       "<tr><td style=\"text-align: right;\">          7</td><td style=\"text-align: right;\">              7</td><td>yes                  </td></tr>\n",
       "<tr><td style=\"text-align: right;\">          7</td><td style=\"text-align: right;\">              6</td><td>yes                  </td></tr>\n",
       "<tr><td style=\"text-align: right;\">          7</td><td style=\"text-align: right;\">              6</td><td>yes                  </td></tr>\n",
       "</tbody>\n",
       "</table>"
      ],
      "text/plain": [
       "'<table>\\n<thead>\\n<tr><th style=\"text-align: right;\">  own_notes</th><th style=\"text-align: right;\">  understanding</th><th>Supports Hypothesis  </th></tr>\\n</thead>\\n<tbody>\\n<tr><td style=\"text-align: right;\">          4</td><td style=\"text-align: right;\">              7</td><td>no                   </td></tr>\\n<tr><td style=\"text-align: right;\">          6</td><td style=\"text-align: right;\">              3</td><td>no                   </td></tr>\\n<tr><td style=\"text-align: right;\">          7</td><td style=\"text-align: right;\">              6</td><td>yes                  </td></tr>\\n<tr><td style=\"text-align: right;\">          6</td><td style=\"text-align: right;\">              5</td><td>yes                  </td></tr>\\n<tr><td style=\"text-align: right;\">          6</td><td style=\"text-align: right;\">              5</td><td>yes                  </td></tr>\\n<tr><td style=\"text-align: right;\">          5</td><td style=\"text-align: right;\">              6</td><td>yes                  </td></tr>\\n<tr><td style=\"text-align: right;\">          7</td><td style=\"text-align: right;\">              6</td><td>yes                  </td></tr>\\n<tr><td style=\"text-align: right;\">          7</td><td style=\"text-align: right;\">              7</td><td>yes                  </td></tr>\\n<tr><td style=\"text-align: right;\">          7</td><td style=\"text-align: right;\">              6</td><td>yes                  </td></tr>\\n<tr><td style=\"text-align: right;\">          7</td><td style=\"text-align: right;\">              6</td><td>yes                  </td></tr>\\n</tbody>\\n</table>'"
      ]
     },
     "execution_count": 45,
     "metadata": {},
     "output_type": "execute_result"
    }
   ],
   "source": [
    "from tabulate import tabulate\n",
    "\n",
    "table = select(data_cols, [\"own_notes\", \"understanding\"])\n",
    "\n",
    "yes_no: list[str] = support(data_cols[\"own_notes\"] , data_cols[\"understanding\"])\n",
    "\n",
    "table[\"Supports Hypothesis\"] = yes_no\n",
    "\n",
    "tabulate(head(table, 10), table.keys(), \"html\")"
   ]
  },
  {
   "cell_type": "markdown",
   "metadata": {},
   "source": [
    "Finding the frequency of the support (or lackthereof) for my hypothesis and printing the % of occurrence."
   ]
  },
  {
   "cell_type": "code",
   "execution_count": 46,
   "metadata": {},
   "outputs": [
    {
     "name": "stdout",
     "output_type": "stream",
     "text": [
      "Percent of data that doesn't agree with hypothesis: 38.225806451612904 %\n",
      "Percent of data that does agree with hypothesis: 61.7741935483871 %\n"
     ]
    }
   ],
   "source": [
    "dictionary_a = count(yes_no)\n",
    "\n",
    "percent_no: float = (dictionary_a[\"no\"])/(dictionary_a[\"no\"] + dictionary_a[\"yes\"]) * 100\n",
    "percent_yes: float = (dictionary_a[\"yes\"])/ (dictionary_a[\"no\"] + dictionary_a[\"yes\"]) * 100\n",
    "\n",
    "print(f\"Percent of data that doesn't agree with hypothesis: {percent_no} %\") \n",
    "print(f\"Percent of data that does agree with hypothesis: {percent_yes} %\")"
   ]
  },
  {
   "cell_type": "markdown",
   "metadata": {},
   "source": [
    "Giving a visual aid in the form of a Bar Graph for the previous step, aka displaying the frequency of support for more note taking being an indicator of higher understanding in Comp 110"
   ]
  },
  {
   "cell_type": "code",
   "execution_count": 47,
   "metadata": {},
   "outputs": [
    {
     "data": {
      "image/png": "[encoded data removed]",
      "text/plain": [
       "<Figure size 432x288 with 1 Axes>"
      ]
     },
     "metadata": {
      "needs_background": "light"
     },
     "output_type": "display_data"
    }
   ],
   "source": [
    "from matplotlib import pyplot as plt\n",
    "\n",
    "plt.title(\"Hypothesis Support\")\n",
    "fig = plt.bar(dictionary_a.keys(), dictionary_a.values())\n"
   ]
  },
  {
   "cell_type": "markdown",
   "metadata": {},
   "source": [
    "## Conclusion\n",
    "\n",
    "In the following markdown cell, write a reflective conclusion given the analysis you performed and identify recommendations.\n",
    "\n",
    "If your analysis of the data supports your idea, state your recommendation for the change and summarize the data analysys results you found which support it. Additionally, describe any extensions or refinements to this idea which might be explored further. Finally, discuss the potential costs, trade-offs, or stakeholders who may be negatively impacted by this proposed change.\n",
    "\n",
    "If your analysis of the data is inconclusive, summarize why your data analysis results were inconclusive in the support of your idea. Additionally, describe what experimental idea implementation or additional data collection might help build more confidence in assessing your idea. Finally, discuss the potential costs, trade-offs, or stakeholders who may be negatively impacted by experimenting with your idea.\n",
    "\n",
    "Finally, if your analysis of the data does not support it, summarize your data analysis results and why it refutes your idea. Discuss the potential costs, trade-offs, or stakeholders who may be negatively impacted by this proposed change. If you disagree with the validity of the findings, describe why your idea still makes sense to implement and what alternative data would better support it. If you agree with the validity of the data analysis, describe what alternate ideas or extensions you would explore instead. "
   ]
  },
  {
   "cell_type": "markdown",
   "metadata": {},
   "source": [
    "### Part 5. Conclusion\n",
    "\n"
   ]
  },
  {
   "cell_type": "markdown",
   "metadata": {},
   "source": [
    "I expected a clear correlation between notetaking and having a better understanding. And my data does seem to agree ~62% of the time, which although visually and numerically seems noteworthy, isn't actually statistically significant.\n",
    "\n",
    "But that doesn't automatically refute the hypothesis, more like inclining towards inconclusive.\n",
    "\n",
    "To make the analysis stronger, it would be better to get a larger pool of data and also define \"understanding\" in a more concrete manner, maybe using grades instead of human feelings: one student's definition of \"understanding\" could be radically different from that of another student.\n",
    "\n",
    "And even if we consider this data to be significant enough to support my hypothesis, there's the factor of confounding variables. Maybe it's not note taking that causes understanding, but rather students that understand the class are more likely to take notes because they find class interesting: there isn't necessarily a causation effect here, just correlation.\n",
    "\n",
    "So before we go on to add more homework (that may or may not be effective) for students, it's important to eliminate confounding  variables.\n",
    "\n",
    "There are no potential costs to the course, only that stakeholders (the students) will have more work, which increases the chances of them disliking the class."
   ]
  }
 ],
 "metadata": {
  "interpreter": {
   "hash": "aee8b7b246df8f9039afb4144a1f6fd8d2ca17a180786b69acc140d282b71a49"
  },
  "kernelspec": {
   "display_name": "Python 3.10.2 64-bit",
   "language": "python",
   "name": "python3"
  },
  "language_info": {
   "codemirror_mode": {
    "name": "ipython",
    "version": 3
   },
   "file_extension": ".py",
   "mimetype": "text/x-python",
   "name": "python",
   "nbconvert_exporter": "python",
   "pygments_lexer": "ipython3",
   "version": "3.10.1"
  },
  "orig_nbformat": 4
 },
 "nbformat": 4,
 "nbformat_minor": 2
}
